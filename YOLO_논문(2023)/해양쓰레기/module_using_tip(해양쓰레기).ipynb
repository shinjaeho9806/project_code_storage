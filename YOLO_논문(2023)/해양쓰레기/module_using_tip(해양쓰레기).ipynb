{
 "cells": [
  {
   "cell_type": "markdown",
   "id": "29532aab-e713-4e0a-9512-63f3aef72f10",
   "metadata": {},
   "source": [
    "# 모듈을 호출하여 사용\n",
    "* label_maker를 이용하여 yolo label로 변환\n",
    "* 변환이 끝났으면, 아래의 라벨링 추출과정을 반복하여 분포를 맞춤\n",
    "* 맞춘 후 class_dist_checker를 이용하여 확인한 후\n",
    "* image_mover로 이미지를 이동하여 완성"
   ]
  },
  {
   "cell_type": "markdown",
   "id": "8eaf3383-a566-45d2-83ab-f95f62a02a1f",
   "metadata": {},
   "source": [
    "# (1) 필수모듈호출 및 필요한 변수 지정"
   ]
  },
  {
   "cell_type": "code",
   "execution_count": 43,
   "id": "e92c19b9-fd5f-4208-9ab7-35570d5ecc22",
   "metadata": {},
   "outputs": [],
   "source": [
    "from aihubtoyolo import label_maker,class_dist_checker, image_mover\n",
    "\n",
    "'''\n",
    "### label_maker용 변수지정<모듈파일을 열어 확인하면 좋음> ###\n",
    "label_dict -> 딕셔너리 : \"aihub라벨명\" : 지정하고자하는 라벨번호(정수형식)\n",
    "file_path -> 라벨 경로\n",
    "save_path -> 이미지 저장 경로\n",
    "'''\n",
    "\n",
    "label_dict = {\"Plastic_Buoy\" : 0, \"Plastic_Buoy_China\" : 0, \"Styrofoam_Buoy\": 0, \"Buoy\" : 0, \n",
    " \"Glass\" : 1,\n",
    " \"Metal\" : 2,\n",
    " \"PET_Bottle\": 3,\n",
    " \"Plastic_ETC\" : 4,\n",
    " \"Styrofoam_Box\" : 5, \"Styrofoam_Piece\" : 5, \"Styrofoam\" : 5,\n",
    " \"Net\" : 6,\n",
    " \"Rope\" : 7}\n",
    "\n",
    "file_path = \"./aihub/label/\"\n",
    "\n",
    "save_path = \"./yolo/label/\""
   ]
  },
  {
   "cell_type": "markdown",
   "id": "61eea51c-f510-468b-a22c-e53f91df6831",
   "metadata": {},
   "source": [
    "# (2) label_maker를 이용하여 yolo라벨 생성"
   ]
  },
  {
   "cell_type": "code",
   "execution_count": 44,
   "id": "d8774a48-e5dc-47d8-8ed4-d64a58a685ab",
   "metadata": {},
   "outputs": [],
   "source": [
    "label_maker(\n",
    "    label_dict = label_dict,\n",
    "    file_path = file_path,\n",
    "    save_path = save_path)"
   ]
  },
  {
   "cell_type": "markdown",
   "id": "ada69d9d",
   "metadata": {},
   "source": [
    "# (3) 라벨링 추출\n",
    "* 이 데이터는 7개의 클래스로 지정하였으므로, 7개지만\n",
    "* 데이터셋에 따라 지정하고자하는 클래스수를 변경하여 아래 과정을 반복하면됨"
   ]
  },
  {
   "cell_type": "code",
   "execution_count": 35,
   "id": "4f6c55c2-44c2-4aa7-ae99-fe338eb4a92b",
   "metadata": {},
   "outputs": [],
   "source": [
    "import random\n",
    "'''\n",
    "path -> 라벨의 경로\n",
    "class_num -> 분류하고자하는 클래스 수\n",
    "sample_size -> 샘플자이즈 수\n",
    "아래의 0,1,2,...을 수행할 때 sample_size 전체를 돌려도 되지만, 보통은 전체중 일부를 추출하여, 추출을 수행하면 빠르게 수행할 수 있음\n",
    "ex) sample_size - 1000\n",
    "count -> 분포저장용 딕셔너리\n",
    "'''\n",
    "\n",
    "path = \"./aihub/label/\"\n",
    "class_num = 7\n",
    "\n",
    "sample_size = len(glob.glob(f\"{save_path}*.txt\"))\n",
    "\n",
    "count = {f\"{i}\" : 0 for i in range(class_num + 1)}"
   ]
  },
  {
   "cell_type": "markdown",
   "id": "13a07697",
   "metadata": {},
   "source": [
    "### 0"
   ]
  },
  {
   "cell_type": "code",
   "execution_count": 50,
   "id": "57967acd",
   "metadata": {},
   "outputs": [
    {
     "name": "stdout",
     "output_type": "stream",
     "text": [
      "33\n",
      "{'0': 102, '1': 3, '2': 8, '3': 23, '4': 2, '5': 6, '6': 12, '7': 30}\n"
     ]
    }
   ],
   "source": [
    "temp_0 = []\n",
    "\n",
    "for txt in random.sample(os.listdir(path), 3000):\n",
    "    with open(path + txt, \"r\") as f:\n",
    "        labels = []\n",
    "        for line in f:\n",
    "            label = line[0]\n",
    "            labels.append(label)\n",
    "        \n",
    "    if (\"0\" in labels):\n",
    "        temp_0.append(txt) \n",
    "        for i in labels:\n",
    "            count[i] += 1\n",
    "            \n",
    "    if count[\"0\"] > 95:\n",
    "        break\n",
    "        \n",
    "print(len(temp_0))\n",
    "print(count)"
   ]
  },
  {
   "cell_type": "markdown",
   "id": "35f65685",
   "metadata": {},
   "source": [
    "### 1"
   ]
  },
  {
   "cell_type": "code",
   "execution_count": 51,
   "id": "7932cc3a",
   "metadata": {
    "scrolled": true
   },
   "outputs": [
    {
     "name": "stdout",
     "output_type": "stream",
     "text": [
      "45\n",
      "{'0': 102, '1': 96, '2': 39, '3': 75, '4': 15, '5': 23, '6': 29, '7': 37}\n"
     ]
    }
   ],
   "source": [
    "temp_1 = []\n",
    "count_1 = count.copy()\n",
    "for txt in random.sample(os.listdir(path), 3000):\n",
    "    with open(path + txt, \"r\") as f:\n",
    "        labels = []\n",
    "        for line in f:\n",
    "            label = line[0]\n",
    "            labels.append(label)\n",
    "        \n",
    "    if (\"1\" in labels) and (\"0\" not in labels):\n",
    "        temp_1.append(txt) \n",
    "        for i in labels:\n",
    "            count_1[i] += 1\n",
    "            \n",
    "    if count_1[\"1\"] > 95:\n",
    "        break\n",
    "            \n",
    "print(len(temp_1))\n",
    "print(count_1)"
   ]
  },
  {
   "cell_type": "markdown",
   "id": "2271f86c",
   "metadata": {},
   "source": [
    "### 2"
   ]
  },
  {
   "cell_type": "code",
   "execution_count": 52,
   "id": "1b1af185",
   "metadata": {},
   "outputs": [
    {
     "name": "stdout",
     "output_type": "stream",
     "text": [
      "44\n",
      "{'0': 102, '1': 96, '2': 96, '3': 75, '4': 33, '5': 64, '6': 38, '7': 46}\n"
     ]
    }
   ],
   "source": [
    "temp_2 = []\n",
    "count_2 = count_1.copy()\n",
    "for txt in random.sample(os.listdir(path), 10000):\n",
    "    with open(path + txt, \"r\") as f:\n",
    "        labels = []\n",
    "        for line in f:\n",
    "            label = line[0]\n",
    "            labels.append(label)\n",
    "        \n",
    "    if (\"2\" in labels) and (\"0\" not in labels) and (\"1\" not in labels) and (\"3\" not in labels):\n",
    "        temp_2.append(txt) \n",
    "        for i in labels:\n",
    "            count_2[i] += 1\n",
    "            \n",
    "    if count_2[\"2\"] > 95:\n",
    "        break\n",
    "            \n",
    "print(len(temp_2))\n",
    "print(count_2)"
   ]
  },
  {
   "cell_type": "markdown",
   "id": "859d344e",
   "metadata": {},
   "source": [
    "### 3"
   ]
  },
  {
   "cell_type": "code",
   "execution_count": 53,
   "id": "f199a7b5",
   "metadata": {},
   "outputs": [
    {
     "name": "stdout",
     "output_type": "stream",
     "text": [
      "12\n",
      "{'0': 102, '1': 96, '2': 96, '3': 96, '4': 40, '5': 73, '6': 39, '7': 47}\n"
     ]
    }
   ],
   "source": [
    "temp_3 = []\n",
    "count_3 = count_2.copy()\n",
    "for txt in random.sample(os.listdir(path), 3000):\n",
    "    with open(path + txt, \"r\") as f:\n",
    "        labels = []\n",
    "        for line in f:\n",
    "            label = line[0]\n",
    "            labels.append(label)\n",
    "        \n",
    "    if (\"3\" in labels) and (\"0\" not in labels) and (\"1\" not in labels) and (\"2\" not in labels):\n",
    "        temp_3.append(txt) \n",
    "        for i in labels:\n",
    "            count_3[i] += 1\n",
    "            \n",
    "    if count_3[\"3\"] > 95:\n",
    "        break\n",
    "            \n",
    "print(len(temp_3))\n",
    "print(count_3)"
   ]
  },
  {
   "cell_type": "markdown",
   "id": "b37c47bd",
   "metadata": {},
   "source": [
    "### 4"
   ]
  },
  {
   "cell_type": "code",
   "execution_count": 54,
   "id": "6bc56efe",
   "metadata": {
    "scrolled": true
   },
   "outputs": [
    {
     "name": "stdout",
     "output_type": "stream",
     "text": [
      "35\n",
      "{'0': 102, '1': 96, '2': 96, '3': 96, '4': 97, '5': 105, '6': 51, '7': 54}\n"
     ]
    }
   ],
   "source": [
    "temp_4 = []\n",
    "count_4 = count_3.copy()\n",
    "for txt in random.sample(os.listdir(path), 10000):\n",
    "    with open(path + txt, \"r\") as f:\n",
    "        labels = []\n",
    "        for line in f:\n",
    "            label = line[0]\n",
    "            labels.append(label)\n",
    "        \n",
    "    if (\"4\" in labels) and (\"0\" not in labels) and (\"1\" not in labels) and (\"2\" not in labels) and (\"3\" not in labels):\n",
    "        temp_4.append(txt) \n",
    "        for i in labels:\n",
    "            count_4[i] += 1\n",
    "            \n",
    "    if count_4[\"4\"] > 95:\n",
    "        break\n",
    "            \n",
    "print(len(temp_4))\n",
    "print(count_4)"
   ]
  },
  {
   "cell_type": "markdown",
   "id": "ddbd845d",
   "metadata": {},
   "source": [
    "### 5"
   ]
  },
  {
   "cell_type": "code",
   "execution_count": 55,
   "id": "16f45a3c",
   "metadata": {},
   "outputs": [
    {
     "name": "stdout",
     "output_type": "stream",
     "text": [
      "0\n",
      "{'0': 102, '1': 96, '2': 96, '3': 96, '4': 97, '5': 105, '6': 51, '7': 54}\n"
     ]
    }
   ],
   "source": [
    "temp_5 = []\n",
    "count_5 = count_4.copy()\n",
    "for txt in random.sample(os.listdir(path), 20000):\n",
    "    with open(path + txt, \"r\") as f:\n",
    "        labels = []\n",
    "        for line in f:\n",
    "            label = line[0]\n",
    "            labels.append(label)\n",
    "        \n",
    "    if (\"5\" in labels) and (\"0\" not in labels) and (\"1\" not in labels) and (\"2\" not in labels) and (\"3\" not in labels) and (\"4\" not in labels):\n",
    "        temp_5.append(txt) \n",
    "        for i in labels:\n",
    "            count_5[i] += 1\n",
    "            \n",
    "    if count_5[\"5\"] > 95:\n",
    "        break\n",
    "            \n",
    "print(len(temp_5))\n",
    "print(count_5)"
   ]
  },
  {
   "cell_type": "markdown",
   "id": "b345ead5",
   "metadata": {},
   "source": [
    "### 6"
   ]
  },
  {
   "cell_type": "code",
   "execution_count": 56,
   "id": "9306ebd3",
   "metadata": {},
   "outputs": [
    {
     "name": "stdout",
     "output_type": "stream",
     "text": [
      "28\n",
      "{'0': 102, '1': 96, '2': 96, '3': 96, '4': 97, '5': 105, '6': 97, '7': 89}\n"
     ]
    }
   ],
   "source": [
    "temp_6 = []\n",
    "count_6 = count_5.copy()\n",
    "for txt in random.sample(os.listdir(path), 20000):\n",
    "    with open(path + txt, \"r\") as f:\n",
    "        labels = []\n",
    "        for line in f:\n",
    "            label = line[0]\n",
    "            labels.append(label)\n",
    "        \n",
    "    if (\"6\" in labels) and (\"0\" not in labels) and (\"1\" not in labels) and (\"2\" not in labels) and (\"3\" not in labels) and (\"4\" not in labels) and (\"5\" not in labels):\n",
    "        temp_6.append(txt) \n",
    "        for i in labels:\n",
    "            count_6[i] += 1\n",
    "            \n",
    "    if count_6[\"6\"] > 95:\n",
    "        break\n",
    "            \n",
    "print(len(temp_6))\n",
    "print(count_6)"
   ]
  },
  {
   "cell_type": "markdown",
   "id": "839de3db",
   "metadata": {},
   "source": [
    "### 7"
   ]
  },
  {
   "cell_type": "code",
   "execution_count": 57,
   "id": "90d59a61",
   "metadata": {},
   "outputs": [
    {
     "name": "stdout",
     "output_type": "stream",
     "text": [
      "3\n",
      "{'0': 102, '1': 96, '2': 96, '3': 96, '4': 97, '5': 105, '6': 97, '7': 97}\n"
     ]
    }
   ],
   "source": [
    "temp_7 = []\n",
    "count_7 = count_6.copy()\n",
    "for txt in random.sample(os.listdir(path), 30000):\n",
    "    with open(path + txt, \"r\") as f:\n",
    "        labels = []\n",
    "        for line in f:\n",
    "            label = line[0]\n",
    "            labels.append(label)\n",
    "        \n",
    "    if (\"7\" in labels) and (\"0\" not in labels) and (\"1\" not in labels) and (\"2\" not in labels) and (\"3\" not in labels) and (\"4\" not in labels) and (\"5\" not in labels) and (\"6\" not in labels):\n",
    "        temp_7.append(txt) \n",
    "        for i in labels:\n",
    "            count_7[i] += 1\n",
    "            \n",
    "    if count_7[\"7\"] > 95:\n",
    "        break\n",
    "                        \n",
    "print(len(temp_7))\n",
    "print(count_7)"
   ]
  },
  {
   "cell_type": "code",
   "execution_count": 59,
   "id": "b4b758ab",
   "metadata": {},
   "outputs": [
    {
     "data": {
      "text/plain": [
       "200"
      ]
     },
     "execution_count": 59,
     "metadata": {},
     "output_type": "execute_result"
    }
   ],
   "source": [
    "len(temp_0) + len(temp_1) + len(temp_2) + len(temp_3) + len(temp_4) + len(temp_5) + len(temp_6) + len(temp_7)"
   ]
  },
  {
   "cell_type": "markdown",
   "id": "a4fd64b0",
   "metadata": {},
   "source": [
    "# (4) 라벨이동"
   ]
  },
  {
   "cell_type": "code",
   "execution_count": 61,
   "id": "466a200b",
   "metadata": {},
   "outputs": [],
   "source": [
    "import shutil\n",
    "'''\n",
    "label_path -> 전체 txt라벨이 저장되어있는 경로\n",
    "save_path  -> 추출한 txt라벨들을 저장할 경로\n",
    "'''\n",
    "\n",
    "label_path = \"./aihub/label/\"\n",
    "save_path = \"./yolo/label/\"\n",
    "temp_list = [temp_0, temp_1, temp_2, temp_3, temp_4, temp_5, temp_6, temp_7]\n",
    "\n",
    "for temp in temp_list:\n",
    "    for t in temp_0:\n",
    "        source_path = os.path.join(label_path, t)\n",
    "        target_path = os.path.join(save_path, t)\n",
    "        shutil.copy(source_path, target_path)"
   ]
  },
  {
   "cell_type": "markdown",
   "id": "41b33c36-8742-4ffc-83c6-a9b5aae023c8",
   "metadata": {},
   "source": [
    "# (5) 데이터 저장\n",
    "* class_dist_checker로 분포 확인하기\n",
    "* image_mover로 이미지 저장하기"
   ]
  },
  {
   "cell_type": "code",
   "execution_count": null,
   "id": "d1b2086c-0165-4141-9e49-64daca393e79",
   "metadata": {},
   "outputs": [],
   "source": [
    "'''\n",
    "label_path -> 추출한 txt라벨이 저장되어있는 경로\n",
    "image_path -> 전체 이미지가 저장되어있는 경로\n",
    "save_image_path -> 이미지를 저장할 경로\n",
    "'''\n",
    "\n",
    "label_path = \"./yolo/label/\"\n",
    "save_path = \"./aihub/image/\"\n",
    "save_image_path = \"./yolo/image/\"\n",
    "\n",
    "class_dist_checker(label_path = label_path, class_num = 7)\n",
    "\n",
    "image_mover(\n",
    "    txt_label_path = label_path,\n",
    "    image_path = save_path,\n",
    "    save_path = save_image_path)"
   ]
  }
 ],
 "metadata": {
  "kernelspec": {
   "display_name": "Python 3 (ipykernel)",
   "language": "python",
   "name": "python3"
  },
  "language_info": {
   "codemirror_mode": {
    "name": "ipython",
    "version": 3
   },
   "file_extension": ".py",
   "mimetype": "text/x-python",
   "name": "python",
   "nbconvert_exporter": "python",
   "pygments_lexer": "ipython3",
   "version": "3.9.17"
  }
 },
 "nbformat": 4,
 "nbformat_minor": 5
}
